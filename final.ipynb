{
 "cells": [
  {
   "cell_type": "markdown",
   "metadata": {},
   "source": [
    "## Objective: Predicting the probability of bank churn using the preprocessed data\n",
    "### Models Used: \n",
    "1.  XGBoost Classifier\n",
    "2.  LGBM Classifier\n",
    "3.  CatBoost Classifier \n",
    "4.  RandomForest Classifier\n",
    "5.  GradientBoost Classifier\n",
    "6.  AdaBoost Classifier\n",
    "7.  SVC\n",
    "8.  StackingClassifier"
   ]
  },
  {
   "cell_type": "code",
   "execution_count": 3,
   "metadata": {},
   "outputs": [],
   "source": [
    "import pandas as pd\n",
    "import numpy as np \n",
    "import matplotlib.pyplot as plt\n",
    "import seaborn as sns \n",
    "import os \n",
    "import joblib  \n"
   ]
  },
  {
   "cell_type": "code",
   "execution_count": 4,
   "metadata": {},
   "outputs": [],
   "source": [
    "from xgboost import XGBClassifier\n",
    "from lightgbm import LGBMClassifier\n",
    "from catboost import CatBoostClassifier\n",
    "from sklearn.svm import SVC\n",
    "from sklearn.model_selection import train_test_split, GridSearchCV, RandomizedSearchCV\n",
    "from sklearn.ensemble import RandomForestClassifier, GradientBoostingClassifier, AdaBoostClassifier, StackingClassifier\n",
    "\n",
    "from sklearn.metrics import accuracy_score, f1_score, roc_auc_score\n",
    "\n"
   ]
  },
  {
   "cell_type": "code",
   "execution_count": 5,
   "metadata": {},
   "outputs": [],
   "source": [
    "df_preprocessed = pd.read_csv('train_preprocessed.csv')\n",
    "df_test_preprocessed = pd.read_csv('test_preprocessed.csv')"
   ]
  },
  {
   "cell_type": "code",
   "execution_count": 6,
   "metadata": {},
   "outputs": [],
   "source": [
    "df_preprocessed.head()\n",
    "X = df_preprocessed.drop(columns = ['id', 'CustomerId', 'Surname', 'Exited'])\n",
    "y = df_preprocessed['Exited']"
   ]
  },
  {
   "cell_type": "code",
   "execution_count": 7,
   "metadata": {},
   "outputs": [],
   "source": [
    "X_train, X_test, y_train, y_test = train_test_split(X, y, test_size = 0.2, random_state = 42)"
   ]
  },
  {
   "cell_type": "code",
   "execution_count": 8,
   "metadata": {},
   "outputs": [],
   "source": [
    "training_score_dict = {}\n",
    "testing_score_dict = {}"
   ]
  },
  {
   "cell_type": "code",
   "execution_count": 9,
   "metadata": {},
   "outputs": [],
   "source": [
    "def model_prediction(model):\n",
    "    model.fit(X_train, y_train)\n",
    "    y_pred_train = model.predict(X_train)\n",
    "    y_pred_train_prob = model.predict_proba(X_train)[:,1] if hasattr(model, 'predict_proba') else None\n",
    "    y_pred_test = model.predict(X_test)\n",
    "    y_pred_test_prob = model.predict_proba(X_test)[:,1] if hasattr(model, 'predict_proba') else None\n",
    "    train_accuracy = accuracy_score(y_train, y_pred_train)\n",
    "    test_accuracy = accuracy_score(y_test, y_pred_test)\n",
    "    train_f1 = f1_score(y_train, y_pred_train)\n",
    "    test_f1 = f1_score(y_test, y_pred_test)\n",
    "    train_roc_auc = roc_auc_score(y_train, y_pred_train_prob) if y_pred_train_prob is not None else None\n",
    "    test_roc_auc = roc_auc_score(y_test, y_pred_test_prob) if y_pred_test_prob is not None else None\n",
    "\n",
    "    training_score_dict[type(model).__name__] = [train_accuracy, train_f1, train_roc_auc]\n",
    "    testing_score_dict[type(model).__name__] = [test_accuracy, test_f1, test_roc_auc]\n",
    "\n",
    "    print(f'Model: {type(model).__name__}')\n",
    "    print(f'Training Accuracy: {train_accuracy}')\n",
    "    print(f'Testing Accuracy: {test_accuracy}')\n",
    "    print(f'Training F1 Score: {train_f1}')\n",
    "    print(f'Testing F1 Score: {test_f1}')\n",
    "    if train_roc_auc is not None:\n",
    "        print(f'Training ROC_AUC Score: {train_roc_auc}')\n",
    "    if test_roc_auc is not None:\n",
    "        print(f'Testing ROC_AUC Score: {test_roc_auc}')\n",
    "    print('---------------------------------')\n",
    "\n",
    "    return model"
   ]
  },
  {
   "cell_type": "markdown",
   "metadata": {},
   "source": [
    "### Support Vector Classifier Model"
   ]
  },
  {
   "cell_type": "code",
   "execution_count": 10,
   "metadata": {},
   "outputs": [],
   "source": [
    "model_svc = model_prediction(SVC(probability = True))"
   ]
  },
  {
   "cell_type": "code",
   "execution_count": null,
   "metadata": {},
   "outputs": [],
   "source": []
  }
 ],
 "metadata": {
  "kernelspec": {
   "display_name": "Python 3",
   "language": "python",
   "name": "python3"
  },
  "language_info": {
   "codemirror_mode": {
    "name": "ipython",
    "version": 3
   },
   "file_extension": ".py",
   "mimetype": "text/x-python",
   "name": "python",
   "nbconvert_exporter": "python",
   "pygments_lexer": "ipython3",
   "version": "3.11.3"
  }
 },
 "nbformat": 4,
 "nbformat_minor": 2
}
